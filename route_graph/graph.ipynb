{
 "cells": [
  {
   "cell_type": "code",
   "execution_count": 7,
   "id": "735e68f5-0630-47a6-bbb4-b0e38f863c8e",
   "metadata": {},
   "outputs": [
    {
     "name": "stdout",
     "output_type": "stream",
     "text": [
      "Requirement already satisfied: networkx in c:\\users\\npopo\\anaconda3\\lib\\site-packages (2.6.3)\n",
      "Note: you may need to restart the kernel to use updated packages.\n"
     ]
    }
   ],
   "source": [
    "%pip install networkx"
   ]
  },
  {
   "cell_type": "code",
   "execution_count": 1,
   "id": "a9829802-bb85-4384-a889-e17d7d6df151",
   "metadata": {},
   "outputs": [],
   "source": [
    "import warshall_mapping as wm"
   ]
  },
  {
   "cell_type": "code",
   "execution_count": 2,
   "id": "318bab36-3f00-4c51-bea4-c9ef7b1d9a55",
   "metadata": {},
   "outputs": [],
   "source": [
    "d = wm.get_warshall_mapping()"
   ]
  },
  {
   "cell_type": "code",
   "execution_count": null,
   "id": "48d18844-35f4-4d05-b1cc-41c1ca0adbb7",
   "metadata": {},
   "outputs": [],
   "source": []
  },
  {
   "cell_type": "code",
   "execution_count": 67,
   "id": "37775311-f979-4e92-b1a4-cd434f1d9762",
   "metadata": {},
   "outputs": [],
   "source": [
    "import pandas as pd\n",
    "import networkx as nx"
   ]
  },
  {
   "cell_type": "code",
   "execution_count": 54,
   "id": "9b31f141-63a0-4ae7-b639-cdab057b7748",
   "metadata": {},
   "outputs": [],
   "source": [
    "routes = pd.read_excel('data/Distance.xlsx', sheet_name='Roads', index_col='road_id')"
   ]
  },
  {
   "cell_type": "code",
   "execution_count": 59,
   "id": "414a4229-0b03-4b98-ad98-714c74587cd9",
   "metadata": {},
   "outputs": [],
   "source": [
    "def get_node(route):\n",
    "    travel_time = ((route.distance / 1000) / 30) * 60\n",
    "    return tuple([route.source_point_id, route.target_point_id, {'weight': travel_time}])"
   ]
  },
  {
   "cell_type": "code",
   "execution_count": 64,
   "id": "0f02ec50-3751-490c-9f95-1fe34ba0891a",
   "metadata": {},
   "outputs": [],
   "source": [
    "edges = list(routes.apply(get_node, axis=1).values)"
   ]
  },
  {
   "cell_type": "code",
   "execution_count": 65,
   "id": "602f50e1-d8a1-4e72-a4be-ae45a28d8a89",
   "metadata": {},
   "outputs": [],
   "source": [
    "graph = nx.DiGraph(edges)"
   ]
  },
  {
   "cell_type": "code",
   "execution_count": 79,
   "id": "b8b9a5ba-f3f1-4fcd-8455-caa5c44dff9b",
   "metadata": {},
   "outputs": [],
   "source": [
    "predecessor, distances = nx.floyd_warshall_predecessor_and_distance(graph)"
   ]
  },
  {
   "cell_type": "code",
   "execution_count": 97,
   "id": "803a3ac2-a2dc-45c0-af99-638bb127827c",
   "metadata": {},
   "outputs": [],
   "source": [
    "all_points = list(set(routes.source_point_id) | set(routes.target_point_id))"
   ]
  },
  {
   "cell_type": "code",
   "execution_count": 111,
   "id": "00e6988e-7abb-41e6-a233-031b64a0ef40",
   "metadata": {},
   "outputs": [],
   "source": [
    "warshall_map = {}\n",
    "\n",
    "for source_point in all_points:\n",
    "    warshall_map[source_point] = {}\n",
    "    warshall_map[source_point]['distance'] = {}\n",
    "    warshall_map[source_point]['route'] = {}\n",
    "    \n",
    "    for destination_point in all_points:\n",
    "        warshall_map[source_point]['distance'][destination_point] = distances[source_point][destination_point]\n",
    "        warshall_map[source_point]['route'][destination_point] = nx.reconstruct_path(source_point, destination_point, predecessor)"
   ]
  },
  {
   "cell_type": "code",
   "execution_count": null,
   "id": "6ab60887-8b52-46dc-8fb6-91a72eb33d40",
   "metadata": {},
   "outputs": [],
   "source": []
  }
 ],
 "metadata": {
  "kernelspec": {
   "display_name": "Python 3 (ipykernel)",
   "language": "python",
   "name": "python3"
  },
  "language_info": {
   "codemirror_mode": {
    "name": "ipython",
    "version": 3
   },
   "file_extension": ".py",
   "mimetype": "text/x-python",
   "name": "python",
   "nbconvert_exporter": "python",
   "pygments_lexer": "ipython3",
   "version": "3.9.7"
  }
 },
 "nbformat": 4,
 "nbformat_minor": 5
}
