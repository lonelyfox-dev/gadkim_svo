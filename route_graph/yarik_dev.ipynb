{
 "cells": [
  {
   "cell_type": "code",
   "execution_count": 7,
   "id": "735e68f5-0630-47a6-bbb4-b0e38f863c8e",
   "metadata": {},
   "outputs": [
    {
     "name": "stdout",
     "output_type": "stream",
     "text": [
      "Requirement already satisfied: networkx in c:\\users\\npopo\\anaconda3\\lib\\site-packages (2.6.3)\n",
      "Note: you may need to restart the kernel to use updated packages.\n"
     ]
    }
   ],
   "source": [
    "%pip install networkx"
   ]
  },
  {
   "cell_type": "markdown",
   "id": "7aadf95c-61b1-48bc-98c8-10ba5d171a58",
   "metadata": {},
   "source": [
    "# Graph + Warshall"
   ]
  },
  {
   "cell_type": "code",
   "execution_count": 4,
   "id": "37775311-f979-4e92-b1a4-cd434f1d9762",
   "metadata": {},
   "outputs": [],
   "source": [
    "import pandas as pd\n",
    "import networkx as nx\n",
    "import numpy as np"
   ]
  },
  {
   "cell_type": "code",
   "execution_count": 54,
   "id": "9b31f141-63a0-4ae7-b639-cdab057b7748",
   "metadata": {},
   "outputs": [],
   "source": [
    "routes = pd.read_excel('data/Distance.xlsx', sheet_name='Roads', index_col='road_id')"
   ]
  },
  {
   "cell_type": "code",
   "execution_count": 19,
   "id": "414a4229-0b03-4b98-ad98-714c74587cd9",
   "metadata": {},
   "outputs": [],
   "source": [
    "def get_node(route):\n",
    "    travel_time = ((route.distance / 1000) / 30) * 60\n",
    "    return tuple([route.source_point_id, route.target_point_id, {'weight': travel_time}])"
   ]
  },
  {
   "cell_type": "code",
   "execution_count": 20,
   "id": "0f02ec50-3751-490c-9f95-1fe34ba0891a",
   "metadata": {},
   "outputs": [],
   "source": [
    "edges = list(routes.apply(get_node, axis=1).values)"
   ]
  },
  {
   "cell_type": "code",
   "execution_count": 21,
   "id": "602f50e1-d8a1-4e72-a4be-ae45a28d8a89",
   "metadata": {},
   "outputs": [],
   "source": [
    "graph = nx.DiGraph(edges)"
   ]
  },
  {
   "cell_type": "code",
   "execution_count": 22,
   "id": "b8b9a5ba-f3f1-4fcd-8455-caa5c44dff9b",
   "metadata": {},
   "outputs": [],
   "source": [
    "predecessor, distances = nx.floyd_warshall_predecessor_and_distance(graph)"
   ]
  },
  {
   "cell_type": "code",
   "execution_count": 23,
   "id": "803a3ac2-a2dc-45c0-af99-638bb127827c",
   "metadata": {},
   "outputs": [],
   "source": [
    "all_points = list(set(routes.source_point_id) | set(routes.target_point_id))"
   ]
  },
  {
   "cell_type": "code",
   "execution_count": 24,
   "id": "00e6988e-7abb-41e6-a233-031b64a0ef40",
   "metadata": {},
   "outputs": [],
   "source": [
    "warshall_map = {}\n",
    "\n",
    "for source_point in all_points:\n",
    "    warshall_map[source_point] = {}\n",
    "    warshall_map[source_point]['distance'] = {}\n",
    "    warshall_map[source_point]['route'] = {}\n",
    "    \n",
    "    for destination_point in all_points:\n",
    "        warshall_map[source_point]['distance'][destination_point] = distances[source_point][destination_point]\n",
    "        warshall_map[source_point]['route'][destination_point] = nx.reconstruct_path(source_point, destination_point, predecessor)"
   ]
  },
  {
   "cell_type": "markdown",
   "id": "90e05ae8-d527-404c-8e0d-e08cc3d88cde",
   "metadata": {},
   "source": [
    "# Vodila Generator"
   ]
  },
  {
   "cell_type": "code",
   "execution_count": 15,
   "id": "a4a2f623-609d-4d0a-8c1e-74c4f9835eeb",
   "metadata": {},
   "outputs": [],
   "source": [
    "routes = pd.read_excel('data/Distance.xlsx', sheet_name='Roads', index_col='road_id')"
   ]
  },
  {
   "cell_type": "code",
   "execution_count": 16,
   "id": "72977458-5bb9-4479-819a-1fccc4f6d6ec",
   "metadata": {},
   "outputs": [],
   "source": [
    "all_points = list(set(routes.source_point_id) | set(routes.target_point_id))"
   ]
  },
  {
   "cell_type": "code",
   "execution_count": 118,
   "id": "05ced445-1399-4bf4-8965-409dddf35c52",
   "metadata": {},
   "outputs": [],
   "source": [
    "default_spawnpoint_id = 4\n",
    "bus_capacities = [100] * 30 + [50] * 10"
   ]
  },
  {
   "cell_type": "code",
   "execution_count": 65,
   "id": "c88adf61-0a0c-440a-915b-f0fb7ee47dd9",
   "metadata": {},
   "outputs": [],
   "source": [
    "def send_awaited_model_time_stub(next_model_time: float):\n",
    "    pass"
   ]
  },
  {
   "cell_type": "code",
   "execution_count": 129,
   "id": "076e04a4-a98d-4ab2-a21c-13c9c3d62350",
   "metadata": {},
   "outputs": [],
   "source": [
    "def simulate_synchronizer_response(global_model_time) -> float:\n",
    "    return global_model_time + np.random.random(1)[0]"
   ]
  },
  {
   "cell_type": "code",
   "execution_count": 130,
   "id": "d57288c9-4bdf-4120-baa5-eff093694a26",
   "metadata": {},
   "outputs": [],
   "source": [
    "def get_destination(points: list, curr_location: int) -> int:\n",
    "    destination = None\n",
    "    while True:\n",
    "        destination = np.random.choice(points, size=1)[0]\n",
    "        if destination == curr_location:\n",
    "            continue\n",
    "        break\n",
    "    return destination"
   ]
  },
  {
   "cell_type": "code",
   "execution_count": 131,
   "id": "9410fd6c-beba-4fbb-9a32-4c334b8a137f",
   "metadata": {},
   "outputs": [],
   "source": [
    "global_model_time = 0\n",
    "\n",
    "def wake_yarik(warshall_map: dict):\n",
    "    default_spawnpoint_id = 4\n",
    "    bus_capacities = [100] * 30 + [50] * 10\n",
    "    \n",
    "    routes = pd.read_excel('data/Distance.xlsx', sheet_name='Roads', index_col='road_id')\n",
    "    all_points = list(set(routes.source_point_id) | set(routes.target_point_id))\n",
    "    \n",
    "    drivers = []\n",
    "    for driver_id, bus_capacity in enumerate(bus_capacities):\n",
    "        drivers.append({\n",
    "            'id': driver_id,\n",
    "            'location': default_spawnpoint_id,\n",
    "            'destination': None,\n",
    "            # 'task_id': None,\n",
    "            'capacity': bus_capacity,\n",
    "            'free_time': None\n",
    "        })\n",
    "\n",
    "    future_events_chain = [0] * 40\n",
    "    \n",
    "    return all_points, drivers, future_events_chain"
   ]
  },
  {
   "cell_type": "code",
   "execution_count": null,
   "id": "ebc5dc37-c325-495f-abcf-57a46f8552e4",
   "metadata": {},
   "outputs": [],
   "source": [
    "def assign_task():\n",
    "    pass"
   ]
  },
  {
   "cell_type": "code",
   "execution_count": null,
   "id": "89c93a58-c020-4b12-9a1b-8db8de866816",
   "metadata": {},
   "outputs": [],
   "source": [
    "# DRIVERS INIT CYCLE\n",
    "\n",
    "for driver in drivers:\n",
    "    # Get current driver location\n",
    "    location = driver['location']\n",
    "    # Get random destination, assign to the driver\n",
    "    destination = get_destination(all_points, location)\n",
    "    driver['destination'] = destination\n",
    "\n",
    "    # Get next route point\n",
    "    next_point = warshall_map[location]['route'][destination][1]\n",
    "    # Get time until the next point, update future events chain\n",
    "    model_timedelta = warshall_map[location]['distance'][next_point]\n",
    "    future_events_chain[driver['id']] = (driver['id'], model_timedelta)\n",
    "\n",
    "    # Get full time until destination point, update driver's time until being free\n",
    "    free_timedelta = warshall_map[location]['distance'][destination]\n",
    "    driver['free_time'] = free_timedelta"
   ]
  },
  {
   "cell_type": "code",
   "execution_count": 132,
   "id": "32b8f7a1-1d59-41f6-ab6d-7fd65093516a",
   "metadata": {},
   "outputs": [],
   "source": [
    "# Get closest model time to an event, send it to the synchronizer\n",
    "future_events_chain = sorted(future_events_chain, key=lambda tup: tup[1])\n",
    "send_awaited_model_time_stub(future_events_chain[0][1])"
   ]
  },
  {
   "cell_type": "code",
   "execution_count": 134,
   "id": "50a8dd05-03a8-4ad2-8758-208069ed7bf6",
   "metadata": {},
   "outputs": [],
   "source": [
    "# Get new model time\n",
    "old_global_model_time = global_model_time\n",
    "global_model_time = simulate_synchronizer_response(global_model_time)\n",
    "\n",
    "# Get time passed\n",
    "global_timedelta = global_model_time - old_global_model_time"
   ]
  },
  {
   "cell_type": "code",
   "execution_count": null,
   "id": "119a6a9e-8e16-4af7-a714-04af3fbac6df",
   "metadata": {},
   "outputs": [],
   "source": []
  },
  {
   "cell_type": "code",
   "execution_count": 156,
   "id": "e7d0a3e5-babf-41a5-9fc2-855922e5f201",
   "metadata": {},
   "outputs": [],
   "source": [
    "def move_drivers(\n",
    "    drivers: list,\n",
    "    future_events_chain: list,\n",
    "    global_model_time: float,\n",
    "    warshall_map: dict\n",
    ") -> list:\n",
    "    # Update drivers position according to the time passed\n",
    "    for driver_id, event_model_time in future_events_chain:\n",
    "        # If the model time moved enough to trigger a driver's event\n",
    "        if global_model_time >= event_model_time:\n",
    "            # Get destination, old_location and new location\n",
    "            destination = driver['destination']\n",
    "            old_location = driver['location']\n",
    "            location = warshall_map[old_location]['route'][destination][1]\n",
    "\n",
    "            # Get time travelled to the new point\n",
    "            travel_time = warshall_map[location]['distance'][old_location]\n",
    "\n",
    "            # If the driver reached his destination\n",
    "            if location == destination:\n",
    "                drivers[driver_id]['location'] = destination\n",
    "                # drivers[driver_id]['task_id'] = None\n",
    "                drivers[driver_id]['destination'] = None\n",
    "                drivers[driver_id]['free_time'] = None\n",
    "                continue\n",
    "\n",
    "            drivers[driver_id]['location'] = location\n",
    "            drivers[driver_id]['free_time'] -= travel_time\n",
    "            \n",
    "    return drivers"
   ]
  },
  {
   "cell_type": "code",
   "execution_count": null,
   "id": "fdd84784-a3c9-4bf0-aaf9-0079afbaa3ba",
   "metadata": {},
   "outputs": [],
   "source": [
    "# # Update drivers position according to the time passed\n",
    "# for driver_id, event_model_time in future_events_chain:\n",
    "#     # If the model time moved enough to trigger a driver's event\n",
    "#     if global_model_time >= event_model_time:\n",
    "#         # Get destination, old_location and new location\n",
    "#         destination = driver['destination']\n",
    "#         old_location = driver['location']\n",
    "#         location = warshall_map[old_location]['route'][destination][1]\n",
    "\n",
    "#         # Get time travelled to the new point\n",
    "#         travel_time = warshall_map[location]['distance'][old_location]\n",
    "\n",
    "#         # If the driver reached his destination\n",
    "#         if location == destination:\n",
    "#             drivers[driver_id]['location'] = destination\n",
    "#             # drivers[driver_id]['task_id'] = None\n",
    "#             drivers[driver_id]['destination'] = None\n",
    "#             drivers[driver_id]['free_time'] = None\n",
    "#             continue\n",
    "\n",
    "#         # Get local timedelta (amount of time for current driver to move around)\n",
    "#         local_timedelta = global_timedelta - travel_time\n",
    "#         # While driver has time to move along his path\n",
    "#         while True:\n",
    "#             # Get current location, next point and travel time needed to reach the next point\n",
    "#             drivers[driver_id]['location'] = location\n",
    "#             next_point = warshall_map[location]['route'][destination][1]\n",
    "#             travel_time = warshall_map[location]['distance'][next_point]\n",
    "\n",
    "#             # If the driver can reach the next point\n",
    "#             if travel_time <= local_timedelta:\n",
    "#                 # If the driver has arrived to his destination, set him free\n",
    "#                 if next_point == destination:\n",
    "#                     drivers[driver_id]['location'] = destination\n",
    "#                     # drivers[driver_id]['task_id'] = None\n",
    "#                     drivers[driver_id]['destination'] = None\n",
    "#                     drivers[driver_id]['free_time'] = None\n",
    "#                     break\n",
    "\n",
    "#                 # Update the driver's location (has not reached the end point yeat, but still has time to move to the next point)\n",
    "#                 drivers[driver_id]['location'] = next_point\n",
    "#                 drivers[driver_id]['free_time'] -= travel_time\n",
    "#                 local_timedelta -= travel_time\n",
    "#             # If there's no time left to move to the next point, get the next driver id\n",
    "#             else:\n",
    "#                 break\n",
    "# return drivers"
   ]
  },
  {
   "cell_type": "code",
   "execution_count": null,
   "id": "cbf3a631-428d-4abf-9dcd-edbdec4d5735",
   "metadata": {},
   "outputs": [],
   "source": [
    "def update_future_events_chain(future_events_chain: list, drivers: list) -> list:\n",
    "    for driver in drivers:\n",
    "        # Get current driver location, destination and the next route point\n",
    "        location = driver['location']\n",
    "        destination = driver['destination']\n",
    "        next_point = warshall_map[location]['route'][destination][1]\n",
    "        \n",
    "        # Get time until the next point, update future events chain\n",
    "        event_model_time = warshall_map[location]['distance'][next_point] + global_model_time\n",
    "        future_events_chain[driver['id']] = (driver['id'], event_model_time)\n",
    "\n",
    "    return sorted(future_events_chain, key=lambda tup: tup[1])"
   ]
  },
  {
   "cell_type": "markdown",
   "id": "c82c161b-61d3-46ec-9aa5-c14127d03bfe",
   "metadata": {},
   "source": [
    "# Yarik Workflow"
   ]
  },
  {
   "cell_type": "markdown",
   "id": "40975b25-26e2-4748-a812-9c143067222b",
   "metadata": {},
   "source": [
    "1. Construct graph (get_warshall_mapping)\n",
    "2. Get Warshall Map (get_warshall_mapping)\n",
    "3. Wake up Yarik (wake_yarik)\n",
    "4. Await task ({some_task_await_routine})\n",
    "5. Assign task (assign_task)\n",
    "6. Send model time change request (send_awaited_model_time)\n",
    "7. Await response ({some_response_awaiting_routine})\n",
    "8. Get new model time (get_synchronizer_response)\n",
    "9. Update driver positions and future events chain (move_drivers -> update_future_events_chain)\n",
    "10. Go to 6"
   ]
  },
  {
   "cell_type": "code",
   "execution_count": null,
   "id": "c60e8478-bfca-433b-8833-819c40c535ed",
   "metadata": {},
   "outputs": [],
   "source": []
  }
 ],
 "metadata": {
  "kernelspec": {
   "display_name": "Python 3 (ipykernel)",
   "language": "python",
   "name": "python3"
  },
  "language_info": {
   "codemirror_mode": {
    "name": "ipython",
    "version": 3
   },
   "file_extension": ".py",
   "mimetype": "text/x-python",
   "name": "python",
   "nbconvert_exporter": "python",
   "pygments_lexer": "ipython3",
   "version": "3.9.7"
  }
 },
 "nbformat": 4,
 "nbformat_minor": 5
}
